{
 "cells": [
  {
   "cell_type": "code",
   "execution_count": null,
   "metadata": {},
   "outputs": [],
   "source": [
    "import pandas as pd\n",
    "import os\n",
    "import random\n",
    "from IPython.display import Audio, display, clear_output\n",
    "import ipywidgets as widgets\n",
    "\n",
    "# Path to the folder containing audio samples\n",
    "audio_folder = 'audio_samples'\n",
    "audio_files = [f for f in os.listdir(audio_folder) if f.endswith('.wav')]\n",
    "\n",
    "# Shuffle the audio files to randomize the order\n",
    "random.shuffle(audio_files)\n",
    "\n",
    "# DataFrame to store results\n",
    "results = pd.DataFrame(columns=['Audio File', 'Rating'])\n",
    "\n",
    "# Slider for MOS rating\n",
    "rating_slider = widgets.IntSlider(min=1, max=5, step=1, description='Rating:')\n",
    "submit_button = widgets.Button(description=\"Submit\")\n",
    "\n",
    "# Function to display the next audio sample\n",
    "current_index = 0\n",
    "\n",
    "def display_next_audio():\n",
    "    global current_index\n",
    "    clear_output(wait=True)\n",
    "    if current_index < len(audio_files):\n",
    "        file_path = os.path.join(audio_folder, audio_files[current_index])\n",
    "        display(Audio(file_path))\n",
    "        display(rating_slider, submit_button)\n",
    "    else:\n",
    "        print(\"Thank you for participating! All ratings have been recorded.\")\n",
    "        results.to_csv('final_ratings.csv', index=False)\n",
    "        display(widgets.Button(description=\"Download Results\"))\n",
    "\n",
    "# Function to handle rating submission\n",
    "def submit_rating(b):\n",
    "    global current_index\n",
    "    file_path = audio_files[current_index]\n",
    "    rating = rating_slider.value\n",
    "    results.loc[current_index] = [file_path, rating]\n",
    "    current_index += 1\n",
    "    display_next_audio()\n",
    "\n",
    "# Attach the function to the button click\n",
    "submit_button.on_click(submit_rating)\n",
    "\n",
    "# Start the experiment\n",
    "display_next_audio()"
   ]
  }
 ],
 "metadata": {
  "language_info": {
   "name": "python"
  }
 },
 "nbformat": 4,
 "nbformat_minor": 2
}
